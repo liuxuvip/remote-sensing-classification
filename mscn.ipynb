{
 "cells": [
  {
   "cell_type": "markdown",
   "metadata": {},
   "source": [
    "# 图片mscn均值减损对比度归一化"
   ]
  },
  {
   "cell_type": "code",
   "execution_count": null,
   "metadata": {
    "collapsed": true
   },
   "outputs": [],
   "source": [
    "import theano\n",
    "import numpy\n",
    "from theano.sandbox import neighbours\n",
    "from theano import tensor as T\n",
    "from theano import function  \n",
    "from skimage import io\n",
    "import time"
   ]
  },
  {
   "cell_type": "code",
   "execution_count": null,
   "metadata": {
    "collapsed": true
   },
   "outputs": [],
   "source": [
    "# img = cv2.imread(spcial_file_dir)\n",
    "#patch = io.imread(r'D:\\zx\\datesets\\to_zhangxu\\72x72_80\\468282659_16750.jpg', True)\n",
    "#patch_batch = []\n",
    "batch_size = len(data['train_x']\n",
    "patch_batch = data['train_x']\n",
    "# 这里模拟批量处理多个图像块\n",
    "print(len(patch_batch))\n",
    "#for i in xrange(batch_size):\n",
    "#    patch_batch.append(patch)\n",
    "\n",
    "_input = T.tensor3('_input')\n",
    "\n",
    "norm_input = T.reshape(_input, T.concatenate([(batch_size,1),_input.shape[1:]]), ndim=4)\n",
    "\n",
    "# neighbours.images2neibs(ten4, neib_shape, neib_step=None, mode='valid')，其中neib_shap为邻域大小，这里设置为3x3，\n",
    "# neib_step指定步长，我们需要对每一个点进行归一化，因此设定为(1x1)\n",
    "# 该函数返回一个shape为(batch_size x patch_width x patch_height, 9)的数组，每一行代表每个点的9个邻居\n",
    "neibs = neighbours.images2neibs(norm_input, (3, 3), (1, 1), 'wrap_centered')\n",
    " \n",
    "_means = T.mean(neibs, axis=1)\n",
    "_stds = T.std(neibs, axis=1)\n",
    "\n",
    "_flatten_input = _input.flatten()\n",
    "normed_result = (_flatten_input - _means) / (_stds + 1 / 255)\n",
    "\n",
    "# 将结果重新reshape为图像大小\n",
    "reshpaed_normed_result = T.reshape(normed_result, _input.shape)\n",
    "                             \n",
    "shared_patch = theano.shared(numpy.asarray(patch_batch, dtype=theano.config.floatX), borrow=True)\n",
    "calc_norm = function([], reshpaed_normed_result, givens={_input:shared_patch})\n",
    "\n",
    "start_time = time.clock()\n",
    "dd = calc_norm()\n",
    "end_time = time.clock()\n",
    "\n",
    "print end_time - start_time"
   ]
  }
 ],
 "metadata": {
  "kernelspec": {
   "display_name": "Python 2",
   "language": "python",
   "name": "python2"
  },
  "language_info": {
   "codemirror_mode": {
    "name": "ipython",
    "version": 2
   },
   "file_extension": ".py",
   "mimetype": "text/x-python",
   "name": "python",
   "nbconvert_exporter": "python",
   "pygments_lexer": "ipython2",
   "version": "2.7.12"
  }
 },
 "nbformat": 4,
 "nbformat_minor": 2
}
